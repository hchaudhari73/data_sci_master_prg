{
 "cells": [
  {
   "cell_type": "markdown",
   "metadata": {
    "slideshow": {
     "slide_type": "slide"
    }
   },
   "source": [
    "# IPL Dataset Analysis\n",
    "\n",
    "## Problem Statement\n",
    "We want to know as to what happens during an IPL match which raises several questions in our mind with our limited knowledge about the game called cricket on which it is based. This analysis is done to know as which factors led one of the team to win and how does it matter."
   ]
  },
  {
   "cell_type": "markdown",
   "metadata": {
    "slideshow": {
     "slide_type": "slide"
    }
   },
   "source": [
    "## About the Dataset :\n",
    "The Indian Premier League (IPL) is a professional T20 cricket league in India contested during April-May of every year by teams representing Indian cities. It is the most-attended cricket league in the world and ranks sixth among all the sports leagues. It has teams with players from around the world and is very competitive and entertaining with a lot of close matches between teams.\n",
    "\n",
    "The IPL and other cricket related datasets are available at [cricsheet.org](https://cricsheet.org/%c2%a0(data). Feel free to visit the website and explore the data by yourself as exploring new sources of data is one of the interesting activities a data scientist gets to do."
   ]
  },
  {
   "cell_type": "markdown",
   "metadata": {
    "slideshow": {
     "slide_type": "slide"
    }
   },
   "source": [
    "### Analysing data with basic python operation"
   ]
  },
  {
   "cell_type": "markdown",
   "metadata": {
    "slideshow": {
     "slide_type": "slide"
    }
   },
   "source": [
    "## Read the data of the format .yaml type"
   ]
  },
  {
   "cell_type": "code",
   "execution_count": 35,
   "metadata": {
    "slideshow": {
     "slide_type": "subslide"
    }
   },
   "outputs": [],
   "source": [
    "import yaml"
   ]
  },
  {
   "cell_type": "code",
   "execution_count": 36,
   "metadata": {
    "slideshow": {
     "slide_type": "subslide"
    }
   },
   "outputs": [],
   "source": [
    "# using with open command to read the file\n",
    "with open('./data/ipl_match.yaml') as f:\n",
    "    data = yaml.load(f)"
   ]
  },
  {
   "cell_type": "code",
   "execution_count": 37,
   "metadata": {
    "slideshow": {
     "slide_type": "subslide"
    }
   },
   "outputs": [
    {
     "data": {
      "text/plain": [
       "{'meta': {'data_version': 0.9,\n",
       "  'created': datetime.date(2011, 5, 6),\n",
       "  'revision': 2},\n",
       " 'info': {'city': 'Bangalore',\n",
       "  'competition': 'IPL',\n",
       "  'dates': [datetime.date(2008, 4, 18)],\n",
       "  'gender': 'male',\n",
       "  'match_type': 'T20',\n",
       "  'outcome': {'by': {'runs': 140}, 'winner': 'Kolkata Knight Riders'},\n",
       "  'overs': 20,\n",
       "  'player_of_match': ['BB McCullum'],\n",
       "  'teams': ['Royal Challengers Bangalore', 'Kolkata Knight Riders'],\n",
       "  'toss': {'decision': 'field', 'winner': 'Royal Challengers Bangalore'},\n",
       "  'umpires': ['Asad Rauf', 'RE Koertzen'],\n",
       "  'venue': 'M Chinnaswamy Stadium'},\n",
       " 'innings': [{'1st innings': {'team': 'Kolkata Knight Riders',\n",
       "    'deliveries': [{0.1: {'batsman': 'SC Ganguly',\n",
       "       'bowler': 'P Kumar',\n",
       "       'extras': {'legbyes': 1},\n",
       "       'non_striker': 'BB McCullum',\n",
       "       'runs': {'batsman': 0, 'extras': 1, 'total': 1}}},\n",
       "     {0.2: {'batsman': 'BB McCullum',\n",
       "       'bowler': 'P Kumar',\n",
       "       'non_striker': 'SC Ganguly',\n",
       "       'runs': {'batsman': 0, 'extras': 0, 'total': 0}}},\n",
       "     {0.3: {'batsman': 'BB McCullum',\n",
       "       'bowler': 'P Kumar',\n",
       "       'extras': {'wides': 1},\n",
       "       'non_striker': 'SC Ganguly',\n",
       "       'runs': {'batsman': 0, 'extras': 1, 'total': 1}}},\n",
       "     {0.4: {'batsman': 'BB McCullum',\n",
       "       'bowler': 'P Kumar',\n",
       "       'non_striker': 'SC Ganguly',\n",
       "       'runs': {'batsman': 0, 'extras': 0, 'total': 0}}},\n",
       "     {0.5: {'batsman': 'BB McCullum',\n",
       "       'bowler': 'P Kumar',\n",
       "       'non_striker': 'SC Ganguly',\n",
       "       'runs': {'batsman': 0, 'extras': 0, 'total': 0}}},\n",
       "     {0.6: {'batsman': 'BB McCullum',\n",
       "       'bowler': 'P Kumar',\n",
       "       'non_striker': 'SC Ganguly',\n",
       "       'runs': {'batsman': 0, 'extras': 0, 'total': 0}}},\n",
       "     {0.7: {'batsman': 'BB McCullum',\n",
       "       'bowler': 'P Kumar',\n",
       "       'extras': {'legbyes': 1},\n",
       "       'non_striker': 'SC Ganguly',\n",
       "       'runs': {'batsman': 0, 'extras': 1, 'total': 1}}},\n",
       "     {1.1: {'batsman': 'BB McCullum',\n",
       "       'bowler': 'Z Khan',\n",
       "       'non_striker': 'SC Ganguly',\n",
       "       'runs': {'batsman': 0, 'extras': 0, 'total': 0}}},\n",
       "     {1.2: {'batsman': 'BB McCullum',\n",
       "       'bowler': 'Z Khan',\n",
       "       'non_striker': 'SC Ganguly',\n",
       "       'runs': {'batsman': 4, 'extras': 0, 'total': 4}}},\n",
       "     {1.3: {'batsman': 'BB McCullum',\n",
       "       'bowler': 'Z Khan',\n",
       "       'non_striker': 'SC Ganguly',\n",
       "       'runs': {'batsman': 4, 'extras': 0, 'total': 4}}},\n",
       "     {1.4: {'batsman': 'BB McCullum',\n",
       "       'bowler': 'Z Khan',\n",
       "       'non_striker': 'SC Ganguly',\n",
       "       'runs': {'batsman': 6, 'extras': 0, 'total': 6}}},\n",
       "     {1.5: {'batsman': 'BB McCullum',\n",
       "       'bowler': 'Z Khan',\n",
       "       'non_striker': 'SC Ganguly',\n",
       "       'runs': {'batsman': 4, 'extras': 0, 'total': 4}}},\n",
       "     {1.6: {'batsman': 'BB McCullum',\n",
       "       'bowler': 'Z Khan',\n",
       "       'non_striker': 'SC Ganguly',\n",
       "       'runs': {'batsman': 0, 'extras': 0, 'total': 0}}},\n",
       "     {2.1: {'batsman': 'SC Ganguly',\n",
       "       'bowler': 'P Kumar',\n",
       "       'non_striker': 'BB McCullum',\n",
       "       'runs': {'batsman': 0, 'extras': 0, 'total': 0}}},\n",
       "     {2.2: {'batsman': 'SC Ganguly',\n",
       "       'bowler': 'P Kumar',\n",
       "       'non_striker': 'BB McCullum',\n",
       "       'runs': {'batsman': 0, 'extras': 0, 'total': 0}}},\n",
       "     {2.3: {'batsman': 'SC Ganguly',\n",
       "       'bowler': 'P Kumar',\n",
       "       'extras': {'legbyes': 1},\n",
       "       'non_striker': 'BB McCullum',\n",
       "       'runs': {'batsman': 0, 'extras': 1, 'total': 1}}},\n",
       "     {2.4: {'batsman': 'BB McCullum',\n",
       "       'bowler': 'P Kumar',\n",
       "       'non_striker': 'SC Ganguly',\n",
       "       'runs': {'batsman': 4, 'extras': 0, 'total': 4}}},\n",
       "     {2.5: {'batsman': 'BB McCullum',\n",
       "       'bowler': 'P Kumar',\n",
       "       'non_striker': 'SC Ganguly',\n",
       "       'runs': {'batsman': 1, 'extras': 0, 'total': 1}}},\n",
       "     {2.6: {'batsman': 'SC Ganguly',\n",
       "       'bowler': 'P Kumar',\n",
       "       'non_striker': 'BB McCullum',\n",
       "       'runs': {'batsman': 0, 'extras': 0, 'total': 0}}},\n",
       "     {3.1: {'batsman': 'BB McCullum',\n",
       "       'bowler': 'AA Noffke',\n",
       "       'extras': {'wides': 5},\n",
       "       'non_striker': 'SC Ganguly',\n",
       "       'runs': {'batsman': 0, 'extras': 5, 'total': 5}}},\n",
       "     {3.2: {'batsman': 'BB McCullum',\n",
       "       'bowler': 'AA Noffke',\n",
       "       'non_striker': 'SC Ganguly',\n",
       "       'runs': {'batsman': 6, 'extras': 0, 'total': 6}}},\n",
       "     {3.3: {'batsman': 'BB McCullum',\n",
       "       'bowler': 'AA Noffke',\n",
       "       'extras': {'legbyes': 1},\n",
       "       'non_striker': 'SC Ganguly',\n",
       "       'runs': {'batsman': 0, 'extras': 1, 'total': 1}}},\n",
       "     {3.4: {'batsman': 'SC Ganguly',\n",
       "       'bowler': 'AA Noffke',\n",
       "       'non_striker': 'BB McCullum',\n",
       "       'runs': {'batsman': 4, 'extras': 0, 'total': 4}}},\n",
       "     {3.5: {'batsman': 'SC Ganguly',\n",
       "       'bowler': 'AA Noffke',\n",
       "       'non_striker': 'BB McCullum',\n",
       "       'runs': {'batsman': 0, 'extras': 0, 'total': 0}}},\n",
       "     {3.6: {'batsman': 'SC Ganguly',\n",
       "       'bowler': 'AA Noffke',\n",
       "       'non_striker': 'BB McCullum',\n",
       "       'runs': {'batsman': 1, 'extras': 0, 'total': 1}}},\n",
       "     {3.7: {'batsman': 'BB McCullum',\n",
       "       'bowler': 'AA Noffke',\n",
       "       'non_striker': 'SC Ganguly',\n",
       "       'runs': {'batsman': 6, 'extras': 0, 'total': 6}}},\n",
       "     {4.1: {'batsman': 'SC Ganguly',\n",
       "       'bowler': 'P Kumar',\n",
       "       'non_striker': 'BB McCullum',\n",
       "       'runs': {'batsman': 4, 'extras': 0, 'total': 4}}},\n",
       "     {4.2: {'batsman': 'SC Ganguly',\n",
       "       'bowler': 'P Kumar',\n",
       "       'non_striker': 'BB McCullum',\n",
       "       'runs': {'batsman': 1, 'extras': 0, 'total': 1}}},\n",
       "     {4.3: {'batsman': 'BB McCullum',\n",
       "       'bowler': 'P Kumar',\n",
       "       'non_striker': 'SC Ganguly',\n",
       "       'runs': {'batsman': 4, 'extras': 0, 'total': 4}}},\n",
       "     {4.4: {'batsman': 'BB McCullum',\n",
       "       'bowler': 'P Kumar',\n",
       "       'non_striker': 'SC Ganguly',\n",
       "       'runs': {'batsman': 0, 'extras': 0, 'total': 0}}},\n",
       "     {4.5: {'batsman': 'BB McCullum',\n",
       "       'bowler': 'P Kumar',\n",
       "       'non_striker': 'SC Ganguly',\n",
       "       'runs': {'batsman': 1, 'extras': 0, 'total': 1}}},\n",
       "     {4.6: {'batsman': 'SC Ganguly',\n",
       "       'bowler': 'P Kumar',\n",
       "       'non_striker': 'BB McCullum',\n",
       "       'runs': {'batsman': 0, 'extras': 0, 'total': 0}}},\n",
       "     {5.1: {'batsman': 'BB McCullum',\n",
       "       'bowler': 'Z Khan',\n",
       "       'non_striker': 'SC Ganguly',\n",
       "       'runs': {'batsman': 1, 'extras': 0, 'total': 1}}},\n",
       "     {5.2: {'batsman': 'SC Ganguly',\n",
       "       'bowler': 'Z Khan',\n",
       "       'non_striker': 'BB McCullum',\n",
       "       'runs': {'batsman': 0, 'extras': 0, 'total': 0},\n",
       "       'wicket': {'fielders': ['JH Kallis'],\n",
       "        'kind': 'caught',\n",
       "        'player_out': 'SC Ganguly'}}},\n",
       "     {5.3: {'batsman': 'RT Ponting',\n",
       "       'bowler': 'Z Khan',\n",
       "       'non_striker': 'BB McCullum',\n",
       "       'runs': {'batsman': 0, 'extras': 0, 'total': 0}}},\n",
       "     {5.4: {'batsman': 'RT Ponting',\n",
       "       'bowler': 'Z Khan',\n",
       "       'non_striker': 'BB McCullum',\n",
       "       'runs': {'batsman': 0, 'extras': 0, 'total': 0}}},\n",
       "     {5.5: {'batsman': 'RT Ponting',\n",
       "       'bowler': 'Z Khan',\n",
       "       'non_striker': 'BB McCullum',\n",
       "       'runs': {'batsman': 0, 'extras': 0, 'total': 0}}},\n",
       "     {5.6: {'batsman': 'RT Ponting',\n",
       "       'bowler': 'Z Khan',\n",
       "       'non_striker': 'BB McCullum',\n",
       "       'runs': {'batsman': 0, 'extras': 0, 'total': 0}}},\n",
       "     {6.1: {'batsman': 'BB McCullum',\n",
       "       'bowler': 'AA Noffke',\n",
       "       'non_striker': 'RT Ponting',\n",
       "       'runs': {'batsman': 1, 'extras': 0, 'total': 1}}},\n",
       "     {6.2: {'batsman': 'RT Ponting',\n",
       "       'bowler': 'AA Noffke',\n",
       "       'non_striker': 'BB McCullum',\n",
       "       'runs': {'batsman': 1, 'extras': 0, 'total': 1}}},\n",
       "     {6.3: {'batsman': 'BB McCullum',\n",
       "       'bowler': 'AA Noffke',\n",
       "       'non_striker': 'RT Ponting',\n",
       "       'runs': {'batsman': 1, 'extras': 0, 'total': 1}}},\n",
       "     {6.4: {'batsman': 'RT Ponting',\n",
       "       'bowler': 'AA Noffke',\n",
       "       'non_striker': 'BB McCullum',\n",
       "       'runs': {'batsman': 2, 'extras': 0, 'total': 2}}},\n",
       "     {6.5: {'batsman': 'RT Ponting',\n",
       "       'bowler': 'AA Noffke',\n",
       "       'non_striker': 'BB McCullum',\n",
       "       'runs': {'batsman': 1, 'extras': 0, 'total': 1}}},\n",
       "     {6.6: {'batsman': 'BB McCullum',\n",
       "       'bowler': 'AA Noffke',\n",
       "       'non_striker': 'RT Ponting',\n",
       "       'runs': {'batsman': 1, 'extras': 0, 'total': 1}}},\n",
       "     {7.1: {'batsman': 'BB McCullum',\n",
       "       'bowler': 'Z Khan',\n",
       "       'non_striker': 'RT Ponting',\n",
       "       'runs': {'batsman': 0, 'extras': 0, 'total': 0}}},\n",
       "     {7.2: {'batsman': 'BB McCullum',\n",
       "       'bowler': 'Z Khan',\n",
       "       'non_striker': 'RT Ponting',\n",
       "       'runs': {'batsman': 1, 'extras': 0, 'total': 1}}},\n",
       "     {7.3: {'batsman': 'RT Ponting',\n",
       "       'bowler': 'Z Khan',\n",
       "       'non_striker': 'BB McCullum',\n",
       "       'runs': {'batsman': 1, 'extras': 0, 'total': 1}}},\n",
       "     {7.4: {'batsman': 'BB McCullum',\n",
       "       'bowler': 'Z Khan',\n",
       "       'non_striker': 'RT Ponting',\n",
       "       'runs': {'batsman': 1, 'extras': 0, 'total': 1}}},\n",
       "     {7.5: {'batsman': 'RT Ponting',\n",
       "       'bowler': 'Z Khan',\n",
       "       'non_striker': 'BB McCullum',\n",
       "       'runs': {'batsman': 1, 'extras': 0, 'total': 1}}},\n",
       "     {7.6: {'batsman': 'BB McCullum',\n",
       "       'bowler': 'Z Khan',\n",
       "       'non_striker': 'RT Ponting',\n",
       "       'runs': {'batsman': 1, 'extras': 0, 'total': 1}}},\n",
       "     {8.1: {'batsman': 'BB McCullum',\n",
       "       'bowler': 'JH Kallis',\n",
       "       'non_striker': 'RT Ponting',\n",
       "       'runs': {'batsman': 0, 'extras': 0, 'total': 0}}},\n",
       "     {8.2: {'batsman': 'BB McCullum',\n",
       "       'bowler': 'JH Kallis',\n",
       "       'non_striker': 'RT Ponting',\n",
       "       'runs': {'batsman': 0, 'extras': 0, 'total': 0}}},\n",
       "     {8.3: {'batsman': 'BB McCullum',\n",
       "       'bowler': 'JH Kallis',\n",
       "       'non_striker': 'RT Ponting',\n",
       "       'runs': {'batsman': 0, 'extras': 0, 'total': 0}}},\n",
       "     {8.4: {'batsman': 'BB McCullum',\n",
       "       'bowler': 'JH Kallis',\n",
       "       'non_striker': 'RT Ponting',\n",
       "       'runs': {'batsman': 1, 'extras': 0, 'total': 1}}},\n",
       "     {8.5: {'batsman': 'RT Ponting',\n",
       "       'bowler': 'JH Kallis',\n",
       "       'non_striker': 'BB McCullum',\n",
       "       'runs': {'batsman': 1, 'extras': 0, 'total': 1}}},\n",
       "     {8.6: {'batsman': 'BB McCullum',\n",
       "       'bowler': 'JH Kallis',\n",
       "       'non_striker': 'RT Ponting',\n",
       "       'runs': {'batsman': 2, 'extras': 0, 'total': 2}}},\n",
       "     {9.1: {'batsman': 'RT Ponting',\n",
       "       'bowler': 'SB Joshi',\n",
       "       'non_striker': 'BB McCullum',\n",
       "       'runs': {'batsman': 1, 'extras': 0, 'total': 1}}},\n",
       "     {9.2: {'batsman': 'BB McCullum',\n",
       "       'bowler': 'SB Joshi',\n",
       "       'non_striker': 'RT Ponting',\n",
       "       'runs': {'batsman': 1, 'extras': 0, 'total': 1}}},\n",
       "     {9.3: {'batsman': 'RT Ponting',\n",
       "       'bowler': 'SB Joshi',\n",
       "       'non_striker': 'BB McCullum',\n",
       "       'runs': {'batsman': 1, 'extras': 0, 'total': 1}}},\n",
       "     {9.4: {'batsman': 'BB McCullum',\n",
       "       'bowler': 'SB Joshi',\n",
       "       'non_striker': 'RT Ponting',\n",
       "       'runs': {'batsman': 0, 'extras': 0, 'total': 0}}},\n",
       "     {9.5: {'batsman': 'BB McCullum',\n",
       "       'bowler': 'SB Joshi',\n",
       "       'non_striker': 'RT Ponting',\n",
       "       'runs': {'batsman': 6, 'extras': 0, 'total': 6}}},\n",
       "     {9.6: {'batsman': 'BB McCullum',\n",
       "       'bowler': 'SB Joshi',\n",
       "       'non_striker': 'RT Ponting',\n",
       "       'runs': {'batsman': 1, 'extras': 0, 'total': 1}}},\n",
       "     {10.1: {'batsman': 'BB McCullum',\n",
       "       'bowler': 'JH Kallis',\n",
       "       'non_striker': 'RT Ponting',\n",
       "       'runs': {'batsman': 1, 'extras': 0, 'total': 1}}},\n",
       "     {10.2: {'batsman': 'RT Ponting',\n",
       "       'bowler': 'JH Kallis',\n",
       "       'non_striker': 'BB McCullum',\n",
       "       'runs': {'batsman': 4, 'extras': 0, 'total': 4}}},\n",
       "     {10.3: {'batsman': 'RT Ponting',\n",
       "       'bowler': 'JH Kallis',\n",
       "       'non_striker': 'BB McCullum',\n",
       "       'runs': {'batsman': 0, 'extras': 0, 'total': 0}}},\n",
       "     {10.4: {'batsman': 'RT Ponting',\n",
       "       'bowler': 'JH Kallis',\n",
       "       'non_striker': 'BB McCullum',\n",
       "       'runs': {'batsman': 6, 'extras': 0, 'total': 6}}},\n",
       "     {10.5: {'batsman': 'RT Ponting',\n",
       "       'bowler': 'JH Kallis',\n",
       "       'non_striker': 'BB McCullum',\n",
       "       'runs': {'batsman': 0, 'extras': 0, 'total': 0}}},\n",
       "     {10.6: {'batsman': 'RT Ponting',\n",
       "       'bowler': 'JH Kallis',\n",
       "       'extras': {'byes': 4},\n",
       "       'non_striker': 'BB McCullum',\n",
       "       'runs': {'batsman': 0, 'extras': 4, 'total': 4}}},\n",
       "     {11.1: {'batsman': 'BB McCullum',\n",
       "       'bowler': 'SB Joshi',\n",
       "       'non_striker': 'RT Ponting',\n",
       "       'runs': {'batsman': 0, 'extras': 0, 'total': 0}}},\n",
       "     {11.2: {'batsman': 'BB McCullum',\n",
       "       'bowler': 'SB Joshi',\n",
       "       'non_striker': 'RT Ponting',\n",
       "       'runs': {'batsman': 6, 'extras': 0, 'total': 6}}},\n",
       "     {11.3: {'batsman': 'BB McCullum',\n",
       "       'bowler': 'SB Joshi',\n",
       "       'non_striker': 'RT Ponting',\n",
       "       'runs': {'batsman': 2, 'extras': 0, 'total': 2}}},\n",
       "     {11.4: {'batsman': 'BB McCullum',\n",
       "       'bowler': 'SB Joshi',\n",
       "       'non_striker': 'RT Ponting',\n",
       "       'runs': {'batsman': 1, 'extras': 0, 'total': 1}}},\n",
       "     {11.5: {'batsman': 'RT Ponting',\n",
       "       'bowler': 'SB Joshi',\n",
       "       'non_striker': 'BB McCullum',\n",
       "       'runs': {'batsman': 0, 'extras': 0, 'total': 0}}},\n",
       "     {11.6: {'batsman': 'RT Ponting',\n",
       "       'bowler': 'SB Joshi',\n",
       "       'non_striker': 'BB McCullum',\n",
       "       'runs': {'batsman': 1, 'extras': 0, 'total': 1}}},\n",
       "     {12.1: {'batsman': 'RT Ponting',\n",
       "       'bowler': 'JH Kallis',\n",
       "       'non_striker': 'BB McCullum',\n",
       "       'runs': {'batsman': 0, 'extras': 0, 'total': 0},\n",
       "       'wicket': {'fielders': ['P Kumar'],\n",
       "        'kind': 'caught',\n",
       "        'player_out': 'RT Ponting'}}},\n",
       "     {12.2: {'batsman': 'BB McCullum',\n",
       "       'bowler': 'JH Kallis',\n",
       "       'non_striker': 'DJ Hussey',\n",
       "       'runs': {'batsman': 4, 'extras': 0, 'total': 4}}},\n",
       "     {12.3: {'batsman': 'BB McCullum',\n",
       "       'bowler': 'JH Kallis',\n",
       "       'non_striker': 'DJ Hussey',\n",
       "       'runs': {'batsman': 0, 'extras': 0, 'total': 0}}},\n",
       "     {12.4: {'batsman': 'BB McCullum',\n",
       "       'bowler': 'JH Kallis',\n",
       "       'non_striker': 'DJ Hussey',\n",
       "       'runs': {'batsman': 2, 'extras': 0, 'total': 2}}},\n",
       "     {12.5: {'batsman': 'BB McCullum',\n",
       "       'bowler': 'JH Kallis',\n",
       "       'extras': {'wides': 1},\n",
       "       'non_striker': 'DJ Hussey',\n",
       "       'runs': {'batsman': 0, 'extras': 1, 'total': 1}}},\n",
       "     {12.6: {'batsman': 'BB McCullum',\n",
       "       'bowler': 'JH Kallis',\n",
       "       'non_striker': 'DJ Hussey',\n",
       "       'runs': {'batsman': 4, 'extras': 0, 'total': 4}}},\n",
       "     {12.7: {'batsman': 'BB McCullum',\n",
       "       'bowler': 'JH Kallis',\n",
       "       'non_striker': 'DJ Hussey',\n",
       "       'runs': {'batsman': 1, 'extras': 0, 'total': 1}}},\n",
       "     {13.1: {'batsman': 'BB McCullum',\n",
       "       'bowler': 'SB Joshi',\n",
       "       'non_striker': 'DJ Hussey',\n",
       "       'runs': {'batsman': 1, 'extras': 0, 'total': 1}}},\n",
       "     {13.2: {'batsman': 'DJ Hussey',\n",
       "       'bowler': 'SB Joshi',\n",
       "       'non_striker': 'BB McCullum',\n",
       "       'runs': {'batsman': 0, 'extras': 0, 'total': 0}}},\n",
       "     {13.3: {'batsman': 'DJ Hussey',\n",
       "       'bowler': 'SB Joshi',\n",
       "       'non_striker': 'BB McCullum',\n",
       "       'runs': {'batsman': 1, 'extras': 0, 'total': 1}}},\n",
       "     {13.4: {'batsman': 'BB McCullum',\n",
       "       'bowler': 'SB Joshi',\n",
       "       'non_striker': 'DJ Hussey',\n",
       "       'runs': {'batsman': 1, 'extras': 0, 'total': 1}}},\n",
       "     {13.5: {'batsman': 'DJ Hussey',\n",
       "       'bowler': 'SB Joshi',\n",
       "       'non_striker': 'BB McCullum',\n",
       "       'runs': {'batsman': 1, 'extras': 0, 'total': 1}}},\n",
       "     {13.6: {'batsman': 'BB McCullum',\n",
       "       'bowler': 'SB Joshi',\n",
       "       'non_striker': 'DJ Hussey',\n",
       "       'runs': {'batsman': 2, 'extras': 0, 'total': 2}}},\n",
       "     {14.1: {'batsman': 'DJ Hussey',\n",
       "       'bowler': 'CL White',\n",
       "       'non_striker': 'BB McCullum',\n",
       "       'runs': {'batsman': 4, 'extras': 0, 'total': 4}}},\n",
       "     {14.2: {'batsman': 'DJ Hussey',\n",
       "       'bowler': 'CL White',\n",
       "       'non_striker': 'BB McCullum',\n",
       "       'runs': {'batsman': 1, 'extras': 0, 'total': 1}}},\n",
       "     {14.3: {'batsman': 'BB McCullum',\n",
       "       'bowler': 'CL White',\n",
       "       'non_striker': 'DJ Hussey',\n",
       "       'runs': {'batsman': 6, 'extras': 0, 'total': 6}}},\n",
       "     {14.4: {'batsman': 'BB McCullum',\n",
       "       'bowler': 'CL White',\n",
       "       'non_striker': 'DJ Hussey',\n",
       "       'runs': {'batsman': 4, 'extras': 0, 'total': 4}}},\n",
       "     {14.5: {'batsman': 'BB McCullum',\n",
       "       'bowler': 'CL White',\n",
       "       'extras': {'wides': 2},\n",
       "       'non_striker': 'DJ Hussey',\n",
       "       'runs': {'batsman': 0, 'extras': 2, 'total': 2}}},\n",
       "     {14.6: {'batsman': 'DJ Hussey',\n",
       "       'bowler': 'CL White',\n",
       "       'non_striker': 'BB McCullum',\n",
       "       'runs': {'batsman': 1, 'extras': 0, 'total': 1}}},\n",
       "     {14.7: {'batsman': 'BB McCullum',\n",
       "       'bowler': 'CL White',\n",
       "       'non_striker': 'DJ Hussey',\n",
       "       'runs': {'batsman': 6, 'extras': 0, 'total': 6}}},\n",
       "     {15.1: {'batsman': 'DJ Hussey',\n",
       "       'bowler': 'AA Noffke',\n",
       "       'non_striker': 'BB McCullum',\n",
       "       'runs': {'batsman': 0, 'extras': 0, 'total': 0}}},\n",
       "     {15.2: {'batsman': 'DJ Hussey',\n",
       "       'bowler': 'AA Noffke',\n",
       "       'non_striker': 'BB McCullum',\n",
       "       'runs': {'batsman': 1, 'extras': 0, 'total': 1}}},\n",
       "     {15.3: {'batsman': 'BB McCullum',\n",
       "       'bowler': 'AA Noffke',\n",
       "       'non_striker': 'DJ Hussey',\n",
       "       'runs': {'batsman': 2, 'extras': 0, 'total': 2}}},\n",
       "     {15.4: {'batsman': 'BB McCullum',\n",
       "       'bowler': 'AA Noffke',\n",
       "       'non_striker': 'DJ Hussey',\n",
       "       'runs': {'batsman': 0, 'extras': 0, 'total': 0}}},\n",
       "     {15.5: {'batsman': 'BB McCullum',\n",
       "       'bowler': 'AA Noffke',\n",
       "       'non_striker': 'DJ Hussey',\n",
       "       'runs': {'batsman': 1, 'extras': 0, 'total': 1}}},\n",
       "     {15.6: {'batsman': 'DJ Hussey',\n",
       "       'bowler': 'AA Noffke',\n",
       "       'non_striker': 'BB McCullum',\n",
       "       'runs': {'batsman': 0, 'extras': 0, 'total': 0}}},\n",
       "     {16.1: {'batsman': 'BB McCullum',\n",
       "       'bowler': 'Z Khan',\n",
       "       'non_striker': 'DJ Hussey',\n",
       "       'runs': {'batsman': 1, 'extras': 0, 'total': 1}}},\n",
       "     {16.2: {'batsman': 'DJ Hussey',\n",
       "       'bowler': 'Z Khan',\n",
       "       'non_striker': 'BB McCullum',\n",
       "       'runs': {'batsman': 2, 'extras': 0, 'total': 2}}},\n",
       "     {16.3: {'batsman': 'DJ Hussey',\n",
       "       'bowler': 'Z Khan',\n",
       "       'non_striker': 'BB McCullum',\n",
       "       'runs': {'batsman': 1, 'extras': 0, 'total': 1}}},\n",
       "     {16.4: {'batsman': 'BB McCullum',\n",
       "       'bowler': 'Z Khan',\n",
       "       'non_striker': 'DJ Hussey',\n",
       "       'runs': {'batsman': 6, 'extras': 0, 'total': 6}}},\n",
       "     {16.5: {'batsman': 'BB McCullum',\n",
       "       'bowler': 'Z Khan',\n",
       "       'non_striker': 'DJ Hussey',\n",
       "       'runs': {'batsman': 2, 'extras': 0, 'total': 2}}},\n",
       "     {16.6: {'batsman': 'BB McCullum',\n",
       "       'bowler': 'Z Khan',\n",
       "       'non_striker': 'DJ Hussey',\n",
       "       'runs': {'batsman': 2, 'extras': 0, 'total': 2}}},\n",
       "     {17.1: {'batsman': 'DJ Hussey',\n",
       "       'bowler': 'AA Noffke',\n",
       "       'non_striker': 'BB McCullum',\n",
       "       'runs': {'batsman': 0, 'extras': 0, 'total': 0},\n",
       "       'wicket': {'fielders': ['CL White'],\n",
       "        'kind': 'caught',\n",
       "        'player_out': 'DJ Hussey'}}},\n",
       "     {17.2: {'batsman': 'BB McCullum',\n",
       "       'bowler': 'AA Noffke',\n",
       "       'non_striker': 'Mohammad Hafeez',\n",
       "       'runs': {'batsman': 1, 'extras': 0, 'total': 1}}},\n",
       "     {17.3: {'batsman': 'Mohammad Hafeez',\n",
       "       'bowler': 'AA Noffke',\n",
       "       'non_striker': 'BB McCullum',\n",
       "       'runs': {'batsman': 0, 'extras': 0, 'total': 0}}},\n",
       "     {17.4: {'batsman': 'Mohammad Hafeez',\n",
       "       'bowler': 'AA Noffke',\n",
       "       'non_striker': 'BB McCullum',\n",
       "       'runs': {'batsman': 1, 'extras': 0, 'total': 1}}},\n",
       "     {17.5: {'batsman': 'BB McCullum',\n",
       "       'bowler': 'AA Noffke',\n",
       "       'non_striker': 'Mohammad Hafeez',\n",
       "       'runs': {'batsman': 4, 'extras': 0, 'total': 4}}},\n",
       "     {17.6: {'batsman': 'BB McCullum',\n",
       "       'bowler': 'AA Noffke',\n",
       "       'non_striker': 'Mohammad Hafeez',\n",
       "       'runs': {'batsman': 1, 'extras': 0, 'total': 1}}},\n",
       "     {18.1: {'batsman': 'BB McCullum',\n",
       "       'bowler': 'JH Kallis',\n",
       "       'non_striker': 'Mohammad Hafeez',\n",
       "       'runs': {'batsman': 6, 'extras': 0, 'total': 6}}},\n",
       "     {18.2: {'batsman': 'BB McCullum',\n",
       "       'bowler': 'JH Kallis',\n",
       "       'non_striker': 'Mohammad Hafeez',\n",
       "       'runs': {'batsman': 0, 'extras': 0, 'total': 0}}},\n",
       "     {18.3: {'batsman': 'BB McCullum',\n",
       "       'bowler': 'JH Kallis',\n",
       "       'non_striker': 'Mohammad Hafeez',\n",
       "       'runs': {'batsman': 6, 'extras': 0, 'total': 6}}},\n",
       "     {18.4: {'batsman': 'BB McCullum',\n",
       "       'bowler': 'JH Kallis',\n",
       "       'non_striker': 'Mohammad Hafeez',\n",
       "       'runs': {'batsman': 4, 'extras': 0, 'total': 4}}},\n",
       "     {18.5: {'batsman': 'BB McCullum',\n",
       "       'bowler': 'JH Kallis',\n",
       "       'non_striker': 'Mohammad Hafeez',\n",
       "       'runs': {'batsman': 1, 'extras': 0, 'total': 1}}},\n",
       "     {18.6: {'batsman': 'Mohammad Hafeez',\n",
       "       'bowler': 'JH Kallis',\n",
       "       'non_striker': 'BB McCullum',\n",
       "       'runs': {'batsman': 4, 'extras': 0, 'total': 4}}},\n",
       "     {19.1: {'batsman': 'BB McCullum',\n",
       "       'bowler': 'P Kumar',\n",
       "       'non_striker': 'Mohammad Hafeez',\n",
       "       'runs': {'batsman': 6, 'extras': 0, 'total': 6}}},\n",
       "     {19.2: {'batsman': 'BB McCullum',\n",
       "       'bowler': 'P Kumar',\n",
       "       'non_striker': 'Mohammad Hafeez',\n",
       "       'runs': {'batsman': 6, 'extras': 0, 'total': 6}}},\n",
       "     {19.3: {'batsman': 'BB McCullum',\n",
       "       'bowler': 'P Kumar',\n",
       "       'non_striker': 'Mohammad Hafeez',\n",
       "       'runs': {'batsman': 2, 'extras': 0, 'total': 2}}},\n",
       "     {19.4: {'batsman': 'BB McCullum',\n",
       "       'bowler': 'P Kumar',\n",
       "       'non_striker': 'Mohammad Hafeez',\n",
       "       'runs': {'batsman': 0, 'extras': 0, 'total': 0}}},\n",
       "     {19.5: {'batsman': 'BB McCullum',\n",
       "       'bowler': 'P Kumar',\n",
       "       'non_striker': 'Mohammad Hafeez',\n",
       "       'runs': {'batsman': 2, 'extras': 0, 'total': 2}}},\n",
       "     {19.6: {'batsman': 'BB McCullum',\n",
       "       'bowler': 'P Kumar',\n",
       "       'non_striker': 'Mohammad Hafeez',\n",
       "       'runs': {'batsman': 6, 'extras': 0, 'total': 6}}}]}},\n",
       "  {'2nd innings': {'team': 'Royal Challengers Bangalore',\n",
       "    'deliveries': [{0.1: {'batsman': 'R Dravid',\n",
       "       'bowler': 'AB Dinda',\n",
       "       'non_striker': 'W Jaffer',\n",
       "       'runs': {'batsman': 1, 'extras': 0, 'total': 1}}},\n",
       "     {0.2: {'batsman': 'W Jaffer',\n",
       "       'bowler': 'AB Dinda',\n",
       "       'extras': {'wides': 1},\n",
       "       'non_striker': 'R Dravid',\n",
       "       'runs': {'batsman': 0, 'extras': 1, 'total': 1}}},\n",
       "     {0.3: {'batsman': 'W Jaffer',\n",
       "       'bowler': 'AB Dinda',\n",
       "       'non_striker': 'R Dravid',\n",
       "       'runs': {'batsman': 0, 'extras': 0, 'total': 0}}},\n",
       "     {0.4: {'batsman': 'W Jaffer',\n",
       "       'bowler': 'AB Dinda',\n",
       "       'non_striker': 'R Dravid',\n",
       "       'runs': {'batsman': 1, 'extras': 0, 'total': 1}}},\n",
       "     {0.5: {'batsman': 'R Dravid',\n",
       "       'bowler': 'AB Dinda',\n",
       "       'non_striker': 'W Jaffer',\n",
       "       'runs': {'batsman': 1, 'extras': 0, 'total': 1}}},\n",
       "     {0.6: {'batsman': 'W Jaffer',\n",
       "       'bowler': 'AB Dinda',\n",
       "       'non_striker': 'R Dravid',\n",
       "       'runs': {'batsman': 0, 'extras': 0, 'total': 0}}},\n",
       "     {0.7: {'batsman': 'W Jaffer',\n",
       "       'bowler': 'AB Dinda',\n",
       "       'non_striker': 'R Dravid',\n",
       "       'runs': {'batsman': 0, 'extras': 0, 'total': 0}}},\n",
       "     {1.1: {'batsman': 'R Dravid',\n",
       "       'bowler': 'I Sharma',\n",
       "       'non_striker': 'W Jaffer',\n",
       "       'runs': {'batsman': 0, 'extras': 0, 'total': 0},\n",
       "       'wicket': {'kind': 'bowled', 'player_out': 'R Dravid'}}},\n",
       "     {1.2: {'batsman': 'V Kohli',\n",
       "       'bowler': 'I Sharma',\n",
       "       'non_striker': 'W Jaffer',\n",
       "       'runs': {'batsman': 0, 'extras': 0, 'total': 0}}},\n",
       "     {1.3: {'batsman': 'V Kohli',\n",
       "       'bowler': 'I Sharma',\n",
       "       'extras': {'legbyes': 4},\n",
       "       'non_striker': 'W Jaffer',\n",
       "       'runs': {'batsman': 0, 'extras': 4, 'total': 4}}},\n",
       "     {1.4: {'batsman': 'V Kohli',\n",
       "       'bowler': 'I Sharma',\n",
       "       'non_striker': 'W Jaffer',\n",
       "       'runs': {'batsman': 1, 'extras': 0, 'total': 1}}},\n",
       "     {1.5: {'batsman': 'W Jaffer',\n",
       "       'bowler': 'I Sharma',\n",
       "       'non_striker': 'V Kohli',\n",
       "       'runs': {'batsman': 0, 'extras': 0, 'total': 0}}},\n",
       "     {1.6: {'batsman': 'W Jaffer',\n",
       "       'bowler': 'I Sharma',\n",
       "       'non_striker': 'V Kohli',\n",
       "       'runs': {'batsman': 0, 'extras': 0, 'total': 0}}},\n",
       "     {2.1: {'batsman': 'V Kohli',\n",
       "       'bowler': 'AB Dinda',\n",
       "       'non_striker': 'W Jaffer',\n",
       "       'runs': {'batsman': 0, 'extras': 0, 'total': 0}}},\n",
       "     {2.2: {'batsman': 'V Kohli',\n",
       "       'bowler': 'AB Dinda',\n",
       "       'non_striker': 'W Jaffer',\n",
       "       'runs': {'batsman': 0, 'extras': 0, 'total': 0},\n",
       "       'wicket': {'kind': 'bowled', 'player_out': 'V Kohli'}}},\n",
       "     {2.3: {'batsman': 'JH Kallis',\n",
       "       'bowler': 'AB Dinda',\n",
       "       'non_striker': 'W Jaffer',\n",
       "       'runs': {'batsman': 1, 'extras': 0, 'total': 1}}},\n",
       "     {2.4: {'batsman': 'W Jaffer',\n",
       "       'bowler': 'AB Dinda',\n",
       "       'non_striker': 'JH Kallis',\n",
       "       'runs': {'batsman': 0, 'extras': 0, 'total': 0}}},\n",
       "     {2.5: {'batsman': 'W Jaffer',\n",
       "       'bowler': 'AB Dinda',\n",
       "       'extras': {'wides': 1},\n",
       "       'non_striker': 'JH Kallis',\n",
       "       'runs': {'batsman': 0, 'extras': 1, 'total': 1}}},\n",
       "     {2.6: {'batsman': 'W Jaffer',\n",
       "       'bowler': 'AB Dinda',\n",
       "       'non_striker': 'JH Kallis',\n",
       "       'runs': {'batsman': 0, 'extras': 0, 'total': 0}}},\n",
       "     {2.7: {'batsman': 'W Jaffer',\n",
       "       'bowler': 'AB Dinda',\n",
       "       'non_striker': 'JH Kallis',\n",
       "       'runs': {'batsman': 1, 'extras': 0, 'total': 1}}},\n",
       "     {3.1: {'batsman': 'W Jaffer',\n",
       "       'bowler': 'I Sharma',\n",
       "       'non_striker': 'JH Kallis',\n",
       "       'runs': {'batsman': 2, 'extras': 0, 'total': 2}}},\n",
       "     {3.2: {'batsman': 'W Jaffer',\n",
       "       'bowler': 'I Sharma',\n",
       "       'non_striker': 'JH Kallis',\n",
       "       'runs': {'batsman': 1, 'extras': 0, 'total': 1}}},\n",
       "     {3.3: {'batsman': 'JH Kallis',\n",
       "       'bowler': 'I Sharma',\n",
       "       'non_striker': 'W Jaffer',\n",
       "       'runs': {'batsman': 0, 'extras': 0, 'total': 0}}},\n",
       "     {3.4: {'batsman': 'JH Kallis',\n",
       "       'bowler': 'I Sharma',\n",
       "       'extras': {'legbyes': 1},\n",
       "       'non_striker': 'W Jaffer',\n",
       "       'runs': {'batsman': 0, 'extras': 1, 'total': 1}}},\n",
       "     {3.5: {'batsman': 'W Jaffer',\n",
       "       'bowler': 'I Sharma',\n",
       "       'non_striker': 'JH Kallis',\n",
       "       'runs': {'batsman': 0, 'extras': 0, 'total': 0}}},\n",
       "     {3.6: {'batsman': 'W Jaffer',\n",
       "       'bowler': 'I Sharma',\n",
       "       'non_striker': 'JH Kallis',\n",
       "       'runs': {'batsman': 0, 'extras': 0, 'total': 0}}},\n",
       "     {4.1: {'batsman': 'JH Kallis',\n",
       "       'bowler': 'AB Agarkar',\n",
       "       'non_striker': 'W Jaffer',\n",
       "       'runs': {'batsman': 1, 'extras': 0, 'total': 1}}},\n",
       "     {4.2: {'batsman': 'W Jaffer',\n",
       "       'bowler': 'AB Agarkar',\n",
       "       'non_striker': 'JH Kallis',\n",
       "       'runs': {'batsman': 1, 'extras': 0, 'total': 1}}},\n",
       "     {4.3: {'batsman': 'JH Kallis',\n",
       "       'bowler': 'AB Agarkar',\n",
       "       'non_striker': 'W Jaffer',\n",
       "       'runs': {'batsman': 0, 'extras': 0, 'total': 0}}},\n",
       "     {4.4: {'batsman': 'JH Kallis',\n",
       "       'bowler': 'AB Agarkar',\n",
       "       'non_striker': 'W Jaffer',\n",
       "       'runs': {'batsman': 6, 'extras': 0, 'total': 6}}},\n",
       "     {4.5: {'batsman': 'JH Kallis',\n",
       "       'bowler': 'AB Agarkar',\n",
       "       'non_striker': 'W Jaffer',\n",
       "       'runs': {'batsman': 0, 'extras': 0, 'total': 0},\n",
       "       'wicket': {'fielders': ['M Kartik'],\n",
       "        'kind': 'caught',\n",
       "        'player_out': 'JH Kallis'}}},\n",
       "     {4.6: {'batsman': 'CL White',\n",
       "       'bowler': 'AB Agarkar',\n",
       "       'non_striker': 'W Jaffer',\n",
       "       'runs': {'batsman': 0, 'extras': 0, 'total': 0}}},\n",
       "     {5.1: {'batsman': 'W Jaffer',\n",
       "       'bowler': 'AB Dinda',\n",
       "       'non_striker': 'CL White',\n",
       "       'runs': {'batsman': 0, 'extras': 0, 'total': 0}}},\n",
       "     {5.2: {'batsman': 'W Jaffer',\n",
       "       'bowler': 'AB Dinda',\n",
       "       'non_striker': 'CL White',\n",
       "       'runs': {'batsman': 0, 'extras': 0, 'total': 0},\n",
       "       'wicket': {'fielders': ['RT Ponting'],\n",
       "        'kind': 'caught',\n",
       "        'player_out': 'W Jaffer'}}},\n",
       "     {5.3: {'batsman': 'MV Boucher',\n",
       "       'bowler': 'AB Dinda',\n",
       "       'non_striker': 'CL White',\n",
       "       'runs': {'batsman': 0, 'extras': 0, 'total': 0}}},\n",
       "     {5.4: {'batsman': 'MV Boucher',\n",
       "       'bowler': 'AB Dinda',\n",
       "       'non_striker': 'CL White',\n",
       "       'runs': {'batsman': 1, 'extras': 0, 'total': 1}}},\n",
       "     {5.5: {'batsman': 'CL White',\n",
       "       'bowler': 'AB Dinda',\n",
       "       'non_striker': 'MV Boucher',\n",
       "       'runs': {'batsman': 1, 'extras': 0, 'total': 1}}},\n",
       "     {5.6: {'batsman': 'MV Boucher',\n",
       "       'bowler': 'AB Dinda',\n",
       "       'non_striker': 'CL White',\n",
       "       'runs': {'batsman': 0, 'extras': 0, 'total': 0}}},\n",
       "     {6.1: {'batsman': 'CL White',\n",
       "       'bowler': 'AB Agarkar',\n",
       "       'non_striker': 'MV Boucher',\n",
       "       'runs': {'batsman': 0, 'extras': 0, 'total': 0}}},\n",
       "     {6.2: {'batsman': 'CL White',\n",
       "       'bowler': 'AB Agarkar',\n",
       "       'non_striker': 'MV Boucher',\n",
       "       'runs': {'batsman': 0, 'extras': 0, 'total': 0}}},\n",
       "     {6.3: {'batsman': 'CL White',\n",
       "       'bowler': 'AB Agarkar',\n",
       "       'non_striker': 'MV Boucher',\n",
       "       'runs': {'batsman': 1, 'extras': 0, 'total': 1}}},\n",
       "     {6.4: {'batsman': 'MV Boucher',\n",
       "       'bowler': 'AB Agarkar',\n",
       "       'extras': {'wides': 1},\n",
       "       'non_striker': 'CL White',\n",
       "       'runs': {'batsman': 0, 'extras': 1, 'total': 1}}},\n",
       "     {6.5: {'batsman': 'MV Boucher',\n",
       "       'bowler': 'AB Agarkar',\n",
       "       'extras': {'wides': 1},\n",
       "       'non_striker': 'CL White',\n",
       "       'runs': {'batsman': 0, 'extras': 1, 'total': 1}}},\n",
       "     {6.6: {'batsman': 'MV Boucher',\n",
       "       'bowler': 'AB Agarkar',\n",
       "       'non_striker': 'CL White',\n",
       "       'runs': {'batsman': 0, 'extras': 0, 'total': 0}}},\n",
       "     {6.7: {'batsman': 'MV Boucher',\n",
       "       'bowler': 'AB Agarkar',\n",
       "       'non_striker': 'CL White',\n",
       "       'runs': {'batsman': 0, 'extras': 0, 'total': 0}}},\n",
       "     {6.8: {'batsman': 'MV Boucher',\n",
       "       'bowler': 'AB Agarkar',\n",
       "       'non_striker': 'CL White',\n",
       "       'runs': {'batsman': 4, 'extras': 0, 'total': 4}}},\n",
       "     {7.1: {'batsman': 'CL White',\n",
       "       'bowler': 'SC Ganguly',\n",
       "       'non_striker': 'MV Boucher',\n",
       "       'runs': {'batsman': 1, 'extras': 0, 'total': 1}}},\n",
       "     {7.2: {'batsman': 'MV Boucher',\n",
       "       'bowler': 'SC Ganguly',\n",
       "       'extras': {'legbyes': 1},\n",
       "       'non_striker': 'CL White',\n",
       "       'runs': {'batsman': 0, 'extras': 1, 'total': 1}}},\n",
       "     {7.3: {'batsman': 'CL White',\n",
       "       'bowler': 'SC Ganguly',\n",
       "       'non_striker': 'MV Boucher',\n",
       "       'runs': {'batsman': 1, 'extras': 0, 'total': 1}}},\n",
       "     {7.4: {'batsman': 'MV Boucher',\n",
       "       'bowler': 'SC Ganguly',\n",
       "       'non_striker': 'CL White',\n",
       "       'runs': {'batsman': 2, 'extras': 0, 'total': 2}}},\n",
       "     {7.5: {'batsman': 'MV Boucher',\n",
       "       'bowler': 'SC Ganguly',\n",
       "       'non_striker': 'CL White',\n",
       "       'runs': {'batsman': 0, 'extras': 0, 'total': 0},\n",
       "       'wicket': {'fielders': ['M Kartik'],\n",
       "        'kind': 'caught',\n",
       "        'player_out': 'MV Boucher'}}},\n",
       "     {7.6: {'batsman': 'CL White',\n",
       "       'bowler': 'SC Ganguly',\n",
       "       'non_striker': 'B Akhil',\n",
       "       'runs': {'batsman': 0, 'extras': 0, 'total': 0}}},\n",
       "     {8.1: {'batsman': 'B Akhil',\n",
       "       'bowler': 'AB Agarkar',\n",
       "       'non_striker': 'CL White',\n",
       "       'runs': {'batsman': 0, 'extras': 0, 'total': 0}}},\n",
       "     {8.2: {'batsman': 'B Akhil',\n",
       "       'bowler': 'AB Agarkar',\n",
       "       'non_striker': 'CL White',\n",
       "       'runs': {'batsman': 0, 'extras': 0, 'total': 0},\n",
       "       'wicket': {'fielders': ['RT Ponting'],\n",
       "        'kind': 'caught',\n",
       "        'player_out': 'B Akhil'}}},\n",
       "     {8.3: {'batsman': 'AA Noffke',\n",
       "       'bowler': 'AB Agarkar',\n",
       "       'non_striker': 'CL White',\n",
       "       'runs': {'batsman': 0, 'extras': 0, 'total': 0}}},\n",
       "     {8.4: {'batsman': 'AA Noffke',\n",
       "       'bowler': 'AB Agarkar',\n",
       "       'extras': {'wides': 1},\n",
       "       'non_striker': 'CL White',\n",
       "       'runs': {'batsman': 0, 'extras': 1, 'total': 1}}},\n",
       "     {8.5: {'batsman': 'AA Noffke',\n",
       "       'bowler': 'AB Agarkar',\n",
       "       'extras': {'wides': 1},\n",
       "       'non_striker': 'CL White',\n",
       "       'runs': {'batsman': 0, 'extras': 1, 'total': 1}}},\n",
       "     {8.6: {'batsman': 'AA Noffke',\n",
       "       'bowler': 'AB Agarkar',\n",
       "       'non_striker': 'CL White',\n",
       "       'runs': {'batsman': 1, 'extras': 0, 'total': 1}}},\n",
       "     {8.7: {'batsman': 'CL White',\n",
       "       'bowler': 'AB Agarkar',\n",
       "       'non_striker': 'AA Noffke',\n",
       "       'runs': {'batsman': 2, 'extras': 0, 'total': 2}}},\n",
       "     {8.8: {'batsman': 'CL White',\n",
       "       'bowler': 'AB Agarkar',\n",
       "       'non_striker': 'AA Noffke',\n",
       "       'runs': {'batsman': 0, 'extras': 0, 'total': 0},\n",
       "       'wicket': {'fielders': ['WP Saha'],\n",
       "        'kind': 'caught',\n",
       "        'player_out': 'CL White'}}},\n",
       "     {9.1: {'batsman': 'AA Noffke',\n",
       "       'bowler': 'SC Ganguly',\n",
       "       'non_striker': 'P Kumar',\n",
       "       'runs': {'batsman': 1, 'extras': 0, 'total': 1}}},\n",
       "     {9.2: {'batsman': 'P Kumar',\n",
       "       'bowler': 'SC Ganguly',\n",
       "       'non_striker': 'AA Noffke',\n",
       "       'runs': {'batsman': 0, 'extras': 0, 'total': 0}}},\n",
       "     {9.3: {'batsman': 'P Kumar',\n",
       "       'bowler': 'SC Ganguly',\n",
       "       'non_striker': 'AA Noffke',\n",
       "       'runs': {'batsman': 0, 'extras': 0, 'total': 0}}},\n",
       "     {9.4: {'batsman': 'P Kumar',\n",
       "       'bowler': 'SC Ganguly',\n",
       "       'extras': {'wides': 1},\n",
       "       'non_striker': 'AA Noffke',\n",
       "       'runs': {'batsman': 0, 'extras': 1, 'total': 1}}},\n",
       "     {9.5: {'batsman': 'P Kumar',\n",
       "       'bowler': 'SC Ganguly',\n",
       "       'extras': {'legbyes': 1},\n",
       "       'non_striker': 'AA Noffke',\n",
       "       'runs': {'batsman': 0, 'extras': 1, 'total': 1}}},\n",
       "     {9.6: {'batsman': 'AA Noffke',\n",
       "       'bowler': 'SC Ganguly',\n",
       "       'non_striker': 'P Kumar',\n",
       "       'runs': {'batsman': 4, 'extras': 0, 'total': 4}}},\n",
       "     {9.7: {'batsman': 'AA Noffke',\n",
       "       'bowler': 'SC Ganguly',\n",
       "       'non_striker': 'P Kumar',\n",
       "       'runs': {'batsman': 1, 'extras': 0, 'total': 1}}},\n",
       "     {10.1: {'batsman': 'AA Noffke',\n",
       "       'bowler': 'AB Agarkar',\n",
       "       'non_striker': 'P Kumar',\n",
       "       'runs': {'batsman': 0, 'extras': 0, 'total': 0}}},\n",
       "     {10.2: {'batsman': 'AA Noffke',\n",
       "       'bowler': 'AB Agarkar',\n",
       "       'non_striker': 'P Kumar',\n",
       "       'runs': {'batsman': 0, 'extras': 0, 'total': 0}}},\n",
       "     {10.3: {'batsman': 'AA Noffke',\n",
       "       'bowler': 'AB Agarkar',\n",
       "       'non_striker': 'P Kumar',\n",
       "       'runs': {'batsman': 0, 'extras': 0, 'total': 0}}},\n",
       "     {10.4: {'batsman': 'AA Noffke',\n",
       "       'bowler': 'AB Agarkar',\n",
       "       'non_striker': 'P Kumar',\n",
       "       'runs': {'batsman': 1, 'extras': 0, 'total': 1}}},\n",
       "     {10.5: {'batsman': 'P Kumar',\n",
       "       'bowler': 'AB Agarkar',\n",
       "       'non_striker': 'AA Noffke',\n",
       "       'runs': {'batsman': 4, 'extras': 0, 'total': 4}}},\n",
       "     {10.6: {'batsman': 'P Kumar',\n",
       "       'bowler': 'AB Agarkar',\n",
       "       'non_striker': 'AA Noffke',\n",
       "       'runs': {'batsman': 0, 'extras': 0, 'total': 0}}},\n",
       "     {11.1: {'batsman': 'AA Noffke',\n",
       "       'bowler': 'SC Ganguly',\n",
       "       'non_striker': 'P Kumar',\n",
       "       'runs': {'batsman': 1, 'extras': 0, 'total': 1},\n",
       "       'wicket': {'fielders': ['AB Agarkar', 'WP Saha'],\n",
       "        'kind': 'run out',\n",
       "        'player_out': 'AA Noffke'}}},\n",
       "     {11.2: {'batsman': 'Z Khan',\n",
       "       'bowler': 'SC Ganguly',\n",
       "       'non_striker': 'P Kumar',\n",
       "       'runs': {'batsman': 0, 'extras': 0, 'total': 0}}},\n",
       "     {11.3: {'batsman': 'Z Khan',\n",
       "       'bowler': 'SC Ganguly',\n",
       "       'non_striker': 'P Kumar',\n",
       "       'runs': {'batsman': 0, 'extras': 0, 'total': 0}}},\n",
       "     {11.4: {'batsman': 'Z Khan',\n",
       "       'bowler': 'SC Ganguly',\n",
       "       'non_striker': 'P Kumar',\n",
       "       'runs': {'batsman': 1, 'extras': 0, 'total': 1}}},\n",
       "     {11.5: {'batsman': 'P Kumar',\n",
       "       'bowler': 'SC Ganguly',\n",
       "       'non_striker': 'Z Khan',\n",
       "       'runs': {'batsman': 0, 'extras': 0, 'total': 0}}},\n",
       "     {11.6: {'batsman': 'P Kumar',\n",
       "       'bowler': 'SC Ganguly',\n",
       "       'non_striker': 'Z Khan',\n",
       "       'runs': {'batsman': 1, 'extras': 0, 'total': 1}}},\n",
       "     {12.1: {'batsman': 'P Kumar',\n",
       "       'bowler': 'LR Shukla',\n",
       "       'non_striker': 'Z Khan',\n",
       "       'runs': {'batsman': 6, 'extras': 0, 'total': 6}}},\n",
       "     {12.2: {'batsman': 'P Kumar',\n",
       "       'bowler': 'LR Shukla',\n",
       "       'extras': {'wides': 2},\n",
       "       'non_striker': 'Z Khan',\n",
       "       'runs': {'batsman': 0, 'extras': 2, 'total': 2}}},\n",
       "     {12.3: {'batsman': 'Z Khan',\n",
       "       'bowler': 'LR Shukla',\n",
       "       'non_striker': 'P Kumar',\n",
       "       'runs': {'batsman': 1, 'extras': 0, 'total': 1}}},\n",
       "     {12.4: {'batsman': 'P Kumar',\n",
       "       'bowler': 'LR Shukla',\n",
       "       'non_striker': 'Z Khan',\n",
       "       'runs': {'batsman': 1, 'extras': 0, 'total': 1}}},\n",
       "     {12.5: {'batsman': 'Z Khan',\n",
       "       'bowler': 'LR Shukla',\n",
       "       'non_striker': 'P Kumar',\n",
       "       'runs': {'batsman': 0, 'extras': 0, 'total': 0}}},\n",
       "     {12.6: {'batsman': 'Z Khan',\n",
       "       'bowler': 'LR Shukla',\n",
       "       'non_striker': 'P Kumar',\n",
       "       'runs': {'batsman': 0, 'extras': 0, 'total': 0}}},\n",
       "     {12.7: {'batsman': 'Z Khan',\n",
       "       'bowler': 'LR Shukla',\n",
       "       'non_striker': 'P Kumar',\n",
       "       'runs': {'batsman': 1, 'extras': 0, 'total': 1}}},\n",
       "     {13.1: {'batsman': 'Z Khan',\n",
       "       'bowler': 'SC Ganguly',\n",
       "       'non_striker': 'P Kumar',\n",
       "       'runs': {'batsman': 0, 'extras': 0, 'total': 0},\n",
       "       'wicket': {'kind': 'bowled', 'player_out': 'Z Khan'}}},\n",
       "     {13.2: {'batsman': 'SB Joshi',\n",
       "       'bowler': 'SC Ganguly',\n",
       "       'non_striker': 'P Kumar',\n",
       "       'runs': {'batsman': 1, 'extras': 0, 'total': 1}}},\n",
       "     {13.3: {'batsman': 'P Kumar',\n",
       "       'bowler': 'SC Ganguly',\n",
       "       'non_striker': 'SB Joshi',\n",
       "       'runs': {'batsman': 0, 'extras': 0, 'total': 0}}},\n",
       "     {13.4: {'batsman': 'P Kumar',\n",
       "       'bowler': 'SC Ganguly',\n",
       "       'non_striker': 'SB Joshi',\n",
       "       'runs': {'batsman': 0, 'extras': 0, 'total': 0}}},\n",
       "     {13.5: {'batsman': 'P Kumar',\n",
       "       'bowler': 'SC Ganguly',\n",
       "       'non_striker': 'SB Joshi',\n",
       "       'runs': {'batsman': 0, 'extras': 0, 'total': 0}}},\n",
       "     {13.6: {'batsman': 'P Kumar',\n",
       "       'bowler': 'SC Ganguly',\n",
       "       'non_striker': 'SB Joshi',\n",
       "       'runs': {'batsman': 6, 'extras': 0, 'total': 6}}},\n",
       "     {14.1: {'batsman': 'SB Joshi',\n",
       "       'bowler': 'I Sharma',\n",
       "       'extras': {'wides': 1},\n",
       "       'non_striker': 'P Kumar',\n",
       "       'runs': {'batsman': 0, 'extras': 1, 'total': 1}}},\n",
       "     {14.2: {'batsman': 'SB Joshi',\n",
       "       'bowler': 'I Sharma',\n",
       "       'non_striker': 'P Kumar',\n",
       "       'runs': {'batsman': 0, 'extras': 0, 'total': 0}}},\n",
       "     {14.3: {'batsman': 'SB Joshi',\n",
       "       'bowler': 'I Sharma',\n",
       "       'non_striker': 'P Kumar',\n",
       "       'runs': {'batsman': 0, 'extras': 0, 'total': 0}}},\n",
       "     {14.4: {'batsman': 'SB Joshi',\n",
       "       'bowler': 'I Sharma',\n",
       "       'non_striker': 'P Kumar',\n",
       "       'runs': {'batsman': 1, 'extras': 0, 'total': 1}}},\n",
       "     {14.5: {'batsman': 'P Kumar',\n",
       "       'bowler': 'I Sharma',\n",
       "       'extras': {'legbyes': 1},\n",
       "       'non_striker': 'SB Joshi',\n",
       "       'runs': {'batsman': 0, 'extras': 1, 'total': 1}}},\n",
       "     {14.6: {'batsman': 'SB Joshi',\n",
       "       'bowler': 'I Sharma',\n",
       "       'non_striker': 'P Kumar',\n",
       "       'runs': {'batsman': 1, 'extras': 0, 'total': 1}}},\n",
       "     {14.7: {'batsman': 'P Kumar',\n",
       "       'bowler': 'I Sharma',\n",
       "       'non_striker': 'SB Joshi',\n",
       "       'runs': {'batsman': 0, 'extras': 0, 'total': 0}}},\n",
       "     {15.1: {'batsman': 'SB Joshi',\n",
       "       'bowler': 'LR Shukla',\n",
       "       'extras': {'wides': 1},\n",
       "       'non_striker': 'P Kumar',\n",
       "       'runs': {'batsman': 0, 'extras': 1, 'total': 1}}},\n",
       "     {15.2: {'batsman': 'SB Joshi',\n",
       "       'bowler': 'LR Shukla',\n",
       "       'non_striker': 'P Kumar',\n",
       "       'runs': {'batsman': 0, 'extras': 0, 'total': 0},\n",
       "       'wicket': {'fielders': ['BB McCullum'],\n",
       "        'kind': 'caught',\n",
       "        'player_out': 'SB Joshi'}}}]}}]}"
      ]
     },
     "execution_count": 37,
     "metadata": {},
     "output_type": "execute_result"
    }
   ],
   "source": [
    "data"
   ]
  },
  {
   "cell_type": "markdown",
   "metadata": {
    "slideshow": {
     "slide_type": "slide"
    }
   },
   "source": [
    "Now let's find answers to some prilminary questions such as "
   ]
  },
  {
   "cell_type": "markdown",
   "metadata": {
    "slideshow": {
     "slide_type": "subslide"
    }
   },
   "source": [
    "### Can you guess the data type with which your working on ?"
   ]
  },
  {
   "cell_type": "code",
   "execution_count": 4,
   "metadata": {
    "slideshow": {
     "slide_type": "subslide"
    }
   },
   "outputs": [
    {
     "data": {
      "text/plain": [
       "dict"
      ]
     },
     "execution_count": 4,
     "metadata": {},
     "output_type": "execute_result"
    }
   ],
   "source": [
    "type(data)\n"
   ]
  },
  {
   "cell_type": "markdown",
   "metadata": {
    "slideshow": {
     "slide_type": "subslide"
    }
   },
   "source": [
    "### In which city the match was played and where was it played ?"
   ]
  },
  {
   "cell_type": "code",
   "execution_count": 5,
   "metadata": {
    "slideshow": {
     "slide_type": "subslide"
    }
   },
   "outputs": [
    {
     "name": "stdout",
     "output_type": "stream",
     "text": [
      "City was Bangalore\n"
     ]
    }
   ],
   "source": [
    "city = data[\"info\"][\"city\"]\n",
    "print(f\"City was {city}\")"
   ]
  },
  {
   "cell_type": "code",
   "execution_count": 6,
   "metadata": {
    "slideshow": {
     "slide_type": "subslide"
    }
   },
   "outputs": [
    {
     "data": {
      "text/plain": [
       "'M Chinnaswamy Stadium'"
      ]
     },
     "execution_count": 6,
     "metadata": {},
     "output_type": "execute_result"
    }
   ],
   "source": [
    "data[\"info\"][\"venue\"]"
   ]
  },
  {
   "cell_type": "markdown",
   "metadata": {
    "slideshow": {
     "slide_type": "subslide"
    }
   },
   "source": [
    "### Which are all the teams that played in the tournament ? How many teams participated  in total?"
   ]
  },
  {
   "cell_type": "code",
   "execution_count": 7,
   "metadata": {
    "slideshow": {
     "slide_type": "subslide"
    }
   },
   "outputs": [
    {
     "name": "stdout",
     "output_type": "stream",
     "text": [
      "Teams = ['Royal Challengers Bangalore', 'Kolkata Knight Riders'], Number of Teams = 2\n"
     ]
    }
   ],
   "source": [
    "teams = data[\"info\"][\"teams\"]\n",
    "print(f\"Teams = {teams}, Number of Teams = {len(teams)}\")"
   ]
  },
  {
   "cell_type": "markdown",
   "metadata": {
    "slideshow": {
     "slide_type": "subslide"
    }
   },
   "source": [
    "### Which team won the toss and what was the decision of toss winner ?"
   ]
  },
  {
   "cell_type": "code",
   "execution_count": 8,
   "metadata": {
    "slideshow": {
     "slide_type": "subslide"
    }
   },
   "outputs": [
    {
     "name": "stdout",
     "output_type": "stream",
     "text": [
      "Team that won toss is = Royal Challengers Bangalore.\n"
     ]
    }
   ],
   "source": [
    "Team_won = data[\"info\"][\"toss\"][\"winner\"]\n",
    "print(f\"Team that won toss is = {Team_won}.\")"
   ]
  },
  {
   "cell_type": "code",
   "execution_count": 9,
   "metadata": {
    "slideshow": {
     "slide_type": "subslide"
    }
   },
   "outputs": [
    {
     "name": "stdout",
     "output_type": "stream",
     "text": [
      "Decision of Royal Challengers Bangalore is to field.\n"
     ]
    }
   ],
   "source": [
    "decision = data[\"info\"][\"toss\"][\"decision\"] \n",
    "print(f\"Decision of {Team_won} is to {decision}.\")"
   ]
  },
  {
   "cell_type": "markdown",
   "metadata": {
    "slideshow": {
     "slide_type": "subslide"
    }
   },
   "source": [
    "### Find the first bowler who played the first ball of the first inning. Also the first batsman who faced first delivery ?"
   ]
  },
  {
   "cell_type": "code",
   "execution_count": 10,
   "metadata": {
    "slideshow": {
     "slide_type": "subslide"
    }
   },
   "outputs": [
    {
     "name": "stdout",
     "output_type": "stream",
     "text": [
      "P Kumar bowled first dilervery.\n",
      "SC Ganguly was the first batsman.\n"
     ]
    }
   ],
   "source": [
    "first_bowler = data[\"innings\"][0][\"1st innings\"][\"deliveries\"][0][0.1][\"bowler\"]\n",
    "print(f\"{first_bowler} bowled first dilervery.\")\n",
    "first_batsman = data[\"innings\"][0][\"1st innings\"][\"deliveries\"][0][0.1][\"batsman\"]\n",
    "print(f\"{first_batsman} was the first batsman.\")"
   ]
  },
  {
   "cell_type": "markdown",
   "metadata": {
    "slideshow": {
     "slide_type": "subslide"
    }
   },
   "source": [
    "### How many deliveries were delivered in first inning ?"
   ]
  },
  {
   "cell_type": "code",
   "execution_count": 11,
   "metadata": {
    "slideshow": {
     "slide_type": "subslide"
    }
   },
   "outputs": [
    {
     "name": "stdout",
     "output_type": "stream",
     "text": [
      "Number of deliver in first innings were 124.\n"
     ]
    }
   ],
   "source": [
    "no_deliveries_1 = len(data[\"innings\"][0][\"1st innings\"][\"deliveries\"])\n",
    "print(f\"Number of deliver in first innings were {no_deliveries_1}.\")"
   ]
  },
  {
   "cell_type": "markdown",
   "metadata": {
    "slideshow": {
     "slide_type": "subslide"
    }
   },
   "source": [
    "### How many deliveries were delivered in second inning ?"
   ]
  },
  {
   "cell_type": "code",
   "execution_count": 12,
   "metadata": {
    "slideshow": {
     "slide_type": "subslide"
    }
   },
   "outputs": [
    {
     "name": "stdout",
     "output_type": "stream",
     "text": [
      "Number of deliveries in first innings were 101.\n"
     ]
    }
   ],
   "source": [
    "no_deliveries_2= len(data[\"innings\"][1][\"2nd innings\"][\"deliveries\"])\n",
    "print(f\"Number of deliveries in first innings were {no_deliveries_2}.\")"
   ]
  },
  {
   "cell_type": "markdown",
   "metadata": {
    "slideshow": {
     "slide_type": "subslide"
    }
   },
   "source": [
    "### Which team won and how ?\n"
   ]
  },
  {
   "cell_type": "code",
   "execution_count": 13,
   "metadata": {
    "slideshow": {
     "slide_type": "subslide"
    }
   },
   "outputs": [
    {
     "name": "stdout",
     "output_type": "stream",
     "text": [
      "Winner of the match was Kolkata Knight Riders.\n"
     ]
    }
   ],
   "source": [
    "won = data[\"info\"][\"outcome\"][\"winner\"]\n",
    "print(f\"Winner of the match was {won}.\")"
   ]
  },
  {
   "cell_type": "markdown",
   "metadata": {
    "slideshow": {
     "slide_type": "subslide"
    }
   },
   "source": [
    "### What is total score in first innings ?"
   ]
  },
  {
   "cell_type": "code",
   "execution_count": 54,
   "metadata": {
    "slideshow": {
     "slide_type": "skip"
    }
   },
   "outputs": [
    {
     "ename": "TypeError",
     "evalue": "list indices must be integers or slices, not float",
     "output_type": "error",
     "traceback": [
      "\u001b[0;31m---------------------------------------------------------------------------\u001b[0m",
      "\u001b[0;31mTypeError\u001b[0m                                 Traceback (most recent call last)",
      "\u001b[0;32m<ipython-input-54-68868ac98d0b>\u001b[0m in \u001b[0;36m<module>\u001b[0;34m\u001b[0m\n\u001b[1;32m      2\u001b[0m \u001b[0;32mwhile\u001b[0m \u001b[0mi\u001b[0m\u001b[0;34m<\u001b[0m\u001b[0;36m4\u001b[0m\u001b[0;34m:\u001b[0m\u001b[0;34m\u001b[0m\u001b[0;34m\u001b[0m\u001b[0m\n\u001b[1;32m      3\u001b[0m     \u001b[0;32mfor\u001b[0m \u001b[0mj\u001b[0m \u001b[0;32min\u001b[0m \u001b[0mJ\u001b[0m\u001b[0;34m:\u001b[0m\u001b[0;34m\u001b[0m\u001b[0;34m\u001b[0m\u001b[0m\n\u001b[0;32m----> 4\u001b[0;31m         \u001b[0mscore\u001b[0m \u001b[0;34m=\u001b[0m \u001b[0mdata\u001b[0m\u001b[0;34m[\u001b[0m\u001b[0;34m\"innings\"\u001b[0m\u001b[0;34m]\u001b[0m\u001b[0;34m[\u001b[0m\u001b[0mj\u001b[0m\u001b[0;34m]\u001b[0m\u001b[0;34m[\u001b[0m\u001b[0;34m\"1st innings\"\u001b[0m\u001b[0;34m]\u001b[0m\u001b[0;34m[\u001b[0m\u001b[0;34m\"deliveries\"\u001b[0m\u001b[0;34m]\u001b[0m\u001b[0;34m[\u001b[0m\u001b[0mi\u001b[0m\u001b[0;34m]\u001b[0m\u001b[0;34m[\u001b[0m\u001b[0;36m0\u001b[0m\u001b[0;34m]\u001b[0m\u001b[0;34m[\u001b[0m\u001b[0;34m\"runs\"\u001b[0m\u001b[0;34m]\u001b[0m\u001b[0;34m[\u001b[0m\u001b[0;34m\"batsman\"\u001b[0m\u001b[0;34m]\u001b[0m\u001b[0;34m\u001b[0m\u001b[0;34m\u001b[0m\u001b[0m\n\u001b[0m\u001b[1;32m      5\u001b[0m         \u001b[0mprint\u001b[0m\u001b[0;34m(\u001b[0m\u001b[0mscore\u001b[0m\u001b[0;34m)\u001b[0m\u001b[0;34m\u001b[0m\u001b[0;34m\u001b[0m\u001b[0m\n\u001b[1;32m      6\u001b[0m \u001b[0;34m\u001b[0m\u001b[0m\n",
      "\u001b[0;31mTypeError\u001b[0m: list indices must be integers or slices, not float"
     ]
    }
   ],
   "source": [
    "J = [0.1,0.2,0.3,0.4,0.5,0.6]\n",
    "while i<4:\n",
    "    for j in J:\n",
    "        score = data[\"innings\"][i][\"1st innings\"][\"deliveries\"][][0][\"runs\"][\"batsman\"]\n",
    "        print(score)\n",
    "       "
   ]
  },
  {
   "cell_type": "code",
   "execution_count": 78,
   "metadata": {
    "slideshow": {
     "slide_type": "skip"
    }
   },
   "outputs": [
    {
     "data": {
      "text/plain": [
       "{'batsman': 'BB McCullum',\n",
       " 'bowler': 'P Kumar',\n",
       " 'non_striker': 'SC Ganguly',\n",
       " 'runs': {'batsman': 1, 'extras': 0, 'total': 1}}"
      ]
     },
     "execution_count": 78,
     "metadata": {},
     "output_type": "execute_result"
    }
   ],
   "source": [
    "data[\"innings\"][0][\"1st innings\"][\"deliveries\"][17][2.5]"
   ]
  },
  {
   "cell_type": "code",
   "execution_count": null,
   "metadata": {},
   "outputs": [],
   "source": []
  }
 ],
 "metadata": {
  "kernelspec": {
   "display_name": "Python 3",
   "language": "python",
   "name": "python3"
  },
  "language_info": {
   "codemirror_mode": {
    "name": "ipython",
    "version": 3
   },
   "file_extension": ".py",
   "mimetype": "text/x-python",
   "name": "python",
   "nbconvert_exporter": "python",
   "pygments_lexer": "ipython3",
   "version": "3.6.8"
  }
 },
 "nbformat": 4,
 "nbformat_minor": 2
}
